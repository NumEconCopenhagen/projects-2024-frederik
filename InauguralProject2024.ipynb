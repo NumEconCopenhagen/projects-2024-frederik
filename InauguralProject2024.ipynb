{
 "cells": [
  {
   "cell_type": "markdown",
   "metadata": {},
   "source": [
    "**Table of contents**<a id='toc0_'></a>    \n",
    "- 1. [Imports](#toc1_)    \n",
    "- 2. [Model class](#toc2_)    \n",
    "  - 2.1. [Basic Edgeworth box](#toc2_1_)    \n",
    "\n",
    "<!-- vscode-jupyter-toc-config\n",
    "\tnumbering=true\n",
    "\tanchor=true\n",
    "\tflat=false\n",
    "\tminLevel=2\n",
    "\tmaxLevel=6\n",
    "\t/vscode-jupyter-toc-config -->\n",
    "<!-- THIS CELL WILL BE REPLACED ON TOC UPDATE. DO NOT WRITE YOUR TEXT IN THIS CELL -->"
   ]
  },
  {
   "cell_type": "markdown",
   "metadata": {},
   "source": [
    "## 1. <a id='toc1_'></a>[Imports](#toc0_)"
   ]
  },
  {
   "cell_type": "code",
   "execution_count": 1,
   "metadata": {},
   "outputs": [],
   "source": [
    "import matplotlib.pyplot as plt\n",
    "plt.rcParams.update({\"axes.grid\":True,\"grid.color\":\"black\",\"grid.alpha\":\"0.25\",\"grid.linestyle\":\"--\"})\n",
    "plt.rcParams.update({'font.size': 14})\n",
    "\n",
    "%load_ext autoreload\n",
    "%autoreload 2"
   ]
  },
  {
   "cell_type": "markdown",
   "metadata": {},
   "source": [
    "## 2. <a id='toc2_'></a>[Model class](#toc0_)"
   ]
  },
  {
   "cell_type": "code",
   "execution_count": 2,
   "metadata": {},
   "outputs": [
    {
     "ename": "ModuleNotFoundError",
     "evalue": "No module named 'ExchangeEconomy'",
     "output_type": "error",
     "traceback": [
      "\u001b[1;31m---------------------------------------------------------------------------\u001b[0m",
      "\u001b[1;31mModuleNotFoundError\u001b[0m                       Traceback (most recent call last)",
      "Cell \u001b[1;32mIn[2], line 1\u001b[0m\n\u001b[1;32m----> 1\u001b[0m \u001b[38;5;28;01mfrom\u001b[39;00m \u001b[38;5;21;01mExchangeEconomy\u001b[39;00m \u001b[38;5;28;01mimport\u001b[39;00m ExchangeEconomyClass\n",
      "\u001b[1;31mModuleNotFoundError\u001b[0m: No module named 'ExchangeEconomy'"
     ]
    }
   ],
   "source": [
    "from ExchangeEconomy import ExchangeEconomyClass"
   ]
  },
  {
   "cell_type": "markdown",
   "metadata": {},
   "source": [
    "### 2.1. <a id='toc2_1_'></a>[Basic Edgeworth box](#toc0_)"
   ]
  },
  {
   "cell_type": "code",
   "execution_count": null,
   "metadata": {},
   "outputs": [],
   "source": [
    "model = ExchangeEconomyClass()\n",
    "N=100\n"
   ]
  },
  {
   "cell_type": "code",
   "execution_count": 10,
   "metadata": {},
   "outputs": [
    {
     "ename": "NameError",
     "evalue": "name 'ExchangeEconomyClass' is not defined",
     "output_type": "error",
     "traceback": [
      "\u001b[1;31m---------------------------------------------------------------------------\u001b[0m",
      "\u001b[1;31mNameError\u001b[0m                                 Traceback (most recent call last)",
      "Cell \u001b[1;32mIn[10], line 19\u001b[0m\n\u001b[0;32m     15\u001b[0m plt\u001b[38;5;241m.\u001b[39mrcParams\u001b[38;5;241m.\u001b[39mupdate({\u001b[38;5;124m'\u001b[39m\u001b[38;5;124mfont.size\u001b[39m\u001b[38;5;124m'\u001b[39m: \u001b[38;5;241m14\u001b[39m})\n\u001b[0;32m     18\u001b[0m \u001b[38;5;66;03m# Example of using the model class and plotting the Edgeworth box\u001b[39;00m\n\u001b[1;32m---> 19\u001b[0m model \u001b[38;5;241m=\u001b[39m ExchangeEconomyClass()\n\u001b[0;32m     21\u001b[0m \u001b[38;5;66;03m# Setup for Edgeworth box plot\u001b[39;00m\n\u001b[0;32m     22\u001b[0m par \u001b[38;5;241m=\u001b[39m model\u001b[38;5;241m.\u001b[39mpar\n",
      "\u001b[1;31mNameError\u001b[0m: name 'ExchangeEconomyClass' is not defined"
     ]
    }
   ],
   "source": [
    "# Corrected code based on the provided snippet for the assignment\n",
    "\n",
    "import matplotlib.pyplot as plt\n",
    "from types import SimpleNamespace\n",
    "from scipy import optimize\n",
    "import numpy as np\n",
    "\n",
    "# Update matplotlib settings for grid and font size\n",
    "plt.rcParams.update({\n",
    "    \"axes.grid\": True,\n",
    "    \"grid.color\": \"black\",\n",
    "    \"grid.alpha\": 0.25,\n",
    "    \"grid.linestyle\": \"--\"\n",
    "})\n",
    "plt.rcParams.update({'font.size': 14})\n",
    "\n",
    "\n",
    "# Example of using the model class and plotting the Edgeworth box\n",
    "model = ExchangeEconomyClass()\n",
    "\n",
    "# Setup for Edgeworth box plot\n",
    "par = model.par\n",
    "\n",
    "# Grid seacrh\n",
    "\n",
    "# Define the grid\n",
    "N = 75  # Number of points in each dimension\n",
    "x1A_grid = np.linspace(0, par.w1A + par.w1B, N)\n",
    "x2A_grid = np.linspace(0, par.w2A + par.w2B, N)\n",
    "\n",
    "# Prepare for Pareto improvement search\n",
    "pareto_improvements = []\n",
    "\n",
    "# Initial utilities with endowments\n",
    "initial_utility_A = model.utility_A(par.w1A, par.w2A)\n",
    "initial_utility_B = model.utility_B(par.w1B, par.w2B)\n",
    "\n",
    "# Grid search for Pareto improvements\n",
    "for x1A in x1A_grid:\n",
    "    for x2A in x2A_grid:\n",
    "        # Calculate remaining goods for B\n",
    "        x1B = par.w1A + par.w1B - x1A\n",
    "        x2B = par.w2A + par.w2B - x2A\n",
    "        \n",
    "        # Ensure allocations are non-negative\n",
    "        if x1B >= 0 and x2B >= 0:\n",
    "            utility_A = model.utility_A(x1A, x2A)\n",
    "            utility_B = model.utility_B(x1B, x2B)\n",
    "            \n",
    "            # Check for Pareto improvement\n",
    "            if utility_A >= initial_utility_A and utility_B >= initial_utility_B:\n",
    "                pareto_improvements.append((x1A, x2A))\n",
    "\n",
    "# Total endowment\n",
    "w1bar = 1.0\n",
    "w2bar = 1.0\n",
    "\n",
    "# Figure setup\n",
    "fig = plt.figure(frameon=False, figsize=(6, 6), dpi=100)\n",
    "ax_A = fig.add_subplot(1, 1, 1)\n",
    "\n",
    "ax_A.set_xlabel(\"$x_1^A$\")\n",
    "ax_A.set_ylabel(\"$x_2^A$\")\n",
    "\n",
    "temp = ax_A.twinx()\n",
    "temp.set_ylabel(\"$x_2^B$\")\n",
    "ax_B = temp.twiny()\n",
    "ax_B.set_xlabel(\"$x_1^B$\")\n",
    "ax_B.invert_xaxis()\n",
    "ax_B.invert_yaxis()\n",
    "\n",
    "# Plotting endowment for A\n",
    "ax_A.scatter(par.w1A, par.w2A, marker='s', color='black', label='endowment')\n",
    "\n",
    "# Plot limits\n",
    "w1bar = 1.0\n",
    "w2bar = 1.0\n",
    "\n",
    "ax_A.plot([0, w1bar], [0, 0], lw=2, color='black')\n",
    "ax_A.plot([0, w1bar], [w2bar, w2bar], lw=2, color='black')\n",
    "ax_A.plot([0, 0], [0, w2bar], lw=2, color='black')\n",
    "ax_A.plot([w1bar, w1bar], [0, w2bar], lw=2, color='black')\n",
    "\n",
    "# Adding Pareto improvements scatter plot\n",
    "ax_A.scatter(np.array(pareto_improvements)[:, 0], np.array(pareto_improvements)[:, 1], color='blue', label='Pareto Improvements')\n",
    "\n",
    "ax_A.set_xlim([-0.1, w1bar + 0.1])\n",
    "ax_A.set_ylim([-0.1, w2bar + 0.1])    \n",
    "ax_B.set_xlim([w1bar + 0.1, -0.1])\n",
    "ax_B.set_ylim([w2bar + 0.1, -0.1])\n",
    "\n",
    "ax_A.legend(frameon=True, loc='upper right', bbox_to_anchor=(1.6, 1.0))\n",
    "\n",
    "plt.show()\n",
    "\n"
   ]
  },
  {
   "cell_type": "code",
   "execution_count": null,
   "metadata": {},
   "outputs": [
    {
     "name": "stdout",
     "output_type": "stream",
     "text": [
      "          p1      eps1      eps2\n",
      "0   0.500000  0.566667 -0.566667\n",
      "1   0.526667  0.509283 -0.509283\n",
      "2   0.553333  0.457430 -0.457430\n",
      "3   0.580000  0.410345 -0.410345\n",
      "4   0.606667  0.367399 -0.367399\n",
      "..       ...       ...       ...\n",
      "70  2.366667 -0.327230  0.327230\n",
      "71  2.393333 -0.329898  0.329898\n",
      "72  2.420000 -0.332507  0.332507\n",
      "73  2.446667 -0.335059  0.335059\n",
      "74  2.473333 -0.337556  0.337556\n",
      "\n",
      "[75 rows x 3 columns]\n"
     ]
    }
   ],
   "source": [
    "import pandas as pd\n",
    "\n",
    "\n",
    "N = 75\n",
    "increments = np.array(range(N)) / N\n",
    "p1_prices = 0.5 + 2*increments\n",
    "# Initialize lists to store the values of eps1 and eps2\n",
    "eps1_values = []\n",
    "eps2_values = []\n",
    "\n",
    "# Calculate eps1 and eps2 for each price in p1_prices\n",
    "for p1 in p1_prices:\n",
    "    eps1, eps2 = model.check_market_clearing(p1)\n",
    "    eps1_values.append(eps1)\n",
    "    eps2_values.append(eps2)\n",
    "\n",
    "df = pd.DataFrame({\n",
    "    'p1': p1_prices,\n",
    "    'eps1': eps1_values,\n",
    "    'eps2': eps2_values\n",
    "})\n",
    "\n",
    "# Print the DataFrame\n",
    "print(df)"
   ]
  },
  {
   "cell_type": "code",
   "execution_count": null,
   "metadata": {},
   "outputs": [
    {
     "name": "stdout",
     "output_type": "stream",
     "text": [
      "The market-clearing price is approximately: 1.0066666666666668\n"
     ]
    }
   ],
   "source": [
    "#Spørgsmål 3\n",
    "import pandas as pd\n",
    "import numpy as np\n",
    "\n",
    "# Your final code structure for calculating eps1 and eps2\n",
    "N = 75\n",
    "increments = np.array(range(N)) / N\n",
    "p1_prices = 0.5 + 2*increments\n",
    "eps1_values = []\n",
    "eps2_values = []\n",
    "\n",
    "# Assuming 'model' is an instance of your ExchangeEconomyClass with the correct check_market_clearing method\n",
    "for p1 in p1_prices:\n",
    "    eps1, eps2 = model.check_market_clearing(p1)\n",
    "    eps1_values.append(eps1)\n",
    "    eps2_values.append(eps2)\n",
    "\n",
    "df = pd.DataFrame({\n",
    "    'p1': p1_prices,\n",
    "    'eps1': eps1_values,\n",
    "    'eps2': eps2_values\n",
    "})\n",
    "\n",
    "# New addition: Finding the market-clearing price\n",
    "df['abs_sum_eps'] = abs(df['eps1']) + abs(df['eps2'])\n",
    "min_eps_row = df.loc[df['abs_sum_eps'].idxmin()]\n",
    "market_clearing_price = min_eps_row['p1']\n",
    "print(f\"The market-clearing price is approximately: {market_clearing_price}\")\n"
   ]
  },
  {
   "cell_type": "code",
   "execution_count": 1,
   "metadata": {},
   "outputs": [
    {
     "ename": "NameError",
     "evalue": "name 'utility_A' is not defined",
     "output_type": "error",
     "traceback": [
      "\u001b[1;31m---------------------------------------------------------------------------\u001b[0m",
      "\u001b[1;31mNameError\u001b[0m                                 Traceback (most recent call last)",
      "Cell \u001b[1;32mIn[1], line 9\u001b[0m\n\u001b[0;32m      6\u001b[0m alpha, beta \u001b[38;5;241m=\u001b[39m \u001b[38;5;241m2\u001b[39m\u001b[38;5;241m/\u001b[39m\u001b[38;5;241m3\u001b[39m, \u001b[38;5;241m1\u001b[39m\u001b[38;5;241m/\u001b[39m\u001b[38;5;241m3\u001b[39m\n\u001b[0;32m      8\u001b[0m \u001b[38;5;66;03m# Re-calculating initial utilities with correct definitions\u001b[39;00m\n\u001b[1;32m----> 9\u001b[0m initial_utility_A \u001b[38;5;241m=\u001b[39m utility_A(omega_1A, omega_2A, alpha)\n\u001b[0;32m     10\u001b[0m initial_utility_B \u001b[38;5;241m=\u001b[39m utility_B(omega_B1, omega_B2, beta)\n\u001b[0;32m     12\u001b[0m \u001b[38;5;66;03m# Constraint for optimization problem ensuring B's utility is at least as high as initial\u001b[39;00m\n",
      "\u001b[1;31mNameError\u001b[0m: name 'utility_A' is not defined"
     ]
    }
   ],
   "source": [
    "# Correcting the approach and defining utility function for consumer B as needed\n",
    "def utility_B(x1, x2, beta=1/3):\n",
    "    return (x1**beta) * (x2**(1-beta))\n",
    "\n",
    "# Assuming alpha and beta values are given as 2/3 and 1/3 respectively\n",
    "alpha, beta = 2/3, 1/3\n",
    "\n",
    "# Re-calculating initial utilities with correct definitions\n",
    "initial_utility_A = utility_A(omega_1A, omega_2A, alpha)\n",
    "initial_utility_B = utility_B(omega_B1, omega_B2, beta)\n",
    "\n",
    "# Constraint for optimization problem ensuring B's utility is at least as high as initial\n",
    "def constraint_B_opt(x):\n",
    "    return utility_B(1 - x[0], 1 - x[1], beta) - initial_utility_B\n",
    "\n",
    "# Adjusting constraints for optimization\n",
    "constraints_opt = [{'type': 'ineq', 'fun': constraint_B_opt}]\n",
    "\n",
    "# Solving the optimization problem with corrections\n",
    "result_corrected = minimize(objective_A, initial_guess, bounds=bounds, constraints=constraints_opt)\n",
    "\n",
    "result_corrected.x, -result_corrected.fun\n"
   ]
  },
  {
   "cell_type": "code",
   "execution_count": 11,
   "metadata": {},
   "outputs": [
    {
     "ename": "NameError",
     "evalue": "name 'par' is not defined",
     "output_type": "error",
     "traceback": [
      "\u001b[1;31m---------------------------------------------------------------------------\u001b[0m",
      "\u001b[1;31mNameError\u001b[0m                                 Traceback (most recent call last)",
      "Cell \u001b[1;32mIn[11], line 39\u001b[0m\n\u001b[0;32m     36\u001b[0m ax_B\u001b[38;5;241m.\u001b[39minvert_yaxis()\n\u001b[0;32m     38\u001b[0m \u001b[38;5;66;03m# Plotting endowment for A\u001b[39;00m\n\u001b[1;32m---> 39\u001b[0m ax_A\u001b[38;5;241m.\u001b[39mscatter(par\u001b[38;5;241m.\u001b[39mw1A, par\u001b[38;5;241m.\u001b[39mw2A, marker\u001b[38;5;241m=\u001b[39m\u001b[38;5;124m'\u001b[39m\u001b[38;5;124ms\u001b[39m\u001b[38;5;124m'\u001b[39m, color\u001b[38;5;241m=\u001b[39m\u001b[38;5;124m'\u001b[39m\u001b[38;5;124mblack\u001b[39m\u001b[38;5;124m'\u001b[39m, label\u001b[38;5;241m=\u001b[39m\u001b[38;5;124m'\u001b[39m\u001b[38;5;124mendowment\u001b[39m\u001b[38;5;124m'\u001b[39m)\n\u001b[0;32m     41\u001b[0m \u001b[38;5;66;03m# Plot limits\u001b[39;00m\n\u001b[0;32m     42\u001b[0m w1bar \u001b[38;5;241m=\u001b[39m \u001b[38;5;241m1.0\u001b[39m\n",
      "\u001b[1;31mNameError\u001b[0m: name 'par' is not defined"
     ]
    },
    {
     "data": {
      "image/png": "[encoded data removed]",
      "text/plain": [
       "<Figure size 600x600 with 3 Axes>"
      ]
     },
     "metadata": {},
     "output_type": "display_data"
    }
   ],
   "source": [
    "from scipy.optimize import minimize\n",
    "# Objective function to maximize the aggregate utility\n",
    "def aggregate_utility(x):\n",
    "    utility_A = (x[0]**alpha) * (x[1]**(1-alpha))\n",
    "    utility_B = ((1-x[0])**beta) * ((1-x[1])**(1-beta))\n",
    "    return -(utility_A + utility_B)  # Negative for maximization\n",
    "\n",
    "# Alpha and Beta values are given from the document: α = 2/3, β = 1/3\n",
    "\n",
    "alpha, beta = 2/3, 1/3  # Given alpha and beta values\n",
    "bounds = ((0, 1), (0, 1))  # Bounds for xA1 and xA2\n",
    "initial_guess = [0.5, 0.5]  # Initial guess\n",
    "    \n",
    "\n",
    "# Solve the optimization problem\n",
    "result_aggregate = minimize(aggregate_utility, initial_guess, bounds=bounds)\n",
    "\n",
    "result_aggregate.x, -result_aggregate.fun\n",
    "\n",
    "# Total endowment\n",
    "w1bar = 1.0\n",
    "w2bar = 1.0\n",
    "\n",
    "# Figure setup\n",
    "fig = plt.figure(frameon=False, figsize=(6, 6), dpi=100)\n",
    "ax_A = fig.add_subplot(1, 1, 1)\n",
    "\n",
    "ax_A.set_xlabel(\"$x_1^A$\")\n",
    "ax_A.set_ylabel(\"$x_2^A$\")\n",
    "\n",
    "temp = ax_A.twinx()\n",
    "temp.set_ylabel(\"$x_2^B$\")\n",
    "ax_B = temp.twiny()\n",
    "ax_B.set_xlabel(\"$x_1^B$\")\n",
    "ax_B.invert_xaxis()\n",
    "ax_B.invert_yaxis()\n",
    "\n",
    "# Plotting endowment for A\n",
    "ax_A.scatter(par.w1A, par.w2A, marker='s', color='black', label='endowment')\n",
    "\n",
    "# Plot limits\n",
    "w1bar = 1.0\n",
    "w2bar = 1.0\n",
    "\n",
    "ax_A.plot([0, w1bar], [0, 0], lw=2, color='black')\n",
    "ax_A.plot([0, w1bar], [w2bar, w2bar], lw=2, color='black')\n",
    "ax_A.plot([0, 0], [0, w2bar], lw=2, color='black')\n",
    "ax_A.plot([w1bar, w1bar], [0, w2bar], lw=2, color='black')\n",
    "\n",
    "# Adding Pareto improvements scatter plot\n",
    "ax_A.scatter(np.array(pareto_improvements)[:, 0], np.array(pareto_improvements)[:, 1], color='blue', label='Pareto Improvements')\n",
    "\n",
    "ax_A.set_xlim([-0.1, w1bar + 0.1])\n",
    "ax_A.set_ylim([-0.1, w2bar + 0.1])    \n",
    "ax_B.set_xlim([w1bar + 0.1, -0.1])\n",
    "ax_B.set_ylim([w2bar + 0.1, -0.1])\n",
    "\n",
    "ax_A.legend(frameon=True, loc='upper right', bbox_to_anchor=(1.6, 1.0))\n",
    "\n",
    "plt.show()\n"
   ]
  },
  {
   "cell_type": "code",
   "execution_count": 54,
   "metadata": {},
   "outputs": [
    {
     "data": {
      "image/png": "[encoded data removed]",
      "text/plain": [
       "<Figure size 800x800 with 1 Axes>"
      ]
     },
     "metadata": {},
     "output_type": "display_data"
    }
   ],
   "source": [
    "#Spørgsmål 8 \n",
    "import numpy as np\n",
    "import matplotlib.pyplot as plt\n",
    "\n",
    "# Define the number of elements\n",
    "num_elements = 50\n",
    "# Generate a random set W with 50 elements where both omega_A1 and omega_A2 are drawn from a uniform distribution U(0,1)\n",
    "omega_A1 = np.random.uniform(0, 1, num_elements)\n",
    "omega_A2 = np.random.uniform(0, 1, num_elements)\n",
    "\n",
    "# Create the set W as a collection of tuples (omega_A1, omega_A2)\n",
    "W = list(zip(omega_A1, omega_A2))\n",
    "\n",
    "# Assuming market equilibrium occurs when omega_A1 + omega_A2 = 1 for both goods\n",
    "# This is just a placeholder; the actual market equilibrium would depend on the specific utility functions and other conditions\n",
    "market_equilibrium = [(omega[0], 1 - omega[0]) for omega in W]\n",
    "\n",
    "# Plot in the Edgeworth box\n",
    "plt.figure(figsize=(8, 8))\n",
    "for point in market_equilibrium:\n",
    "    plt.plot(point[0], point[1], 'o', color='blue')\n",
    "plt.title('Market Equilibrium Allocation in the Edgeworth Box')\n",
    "plt.xlabel('$\\omega^A_1$')\n",
    "plt.ylabel('$\\omega^A_2$')\n",
    "plt.xlim(0, 1)\n",
    "plt.ylim(0, 1)\n",
    "plt.grid(True)\n",
    "plt.show()\n"
   ]
  }
 ],
 "metadata": {
  "kernelspec": {
   "display_name": "base",
   "language": "python",
   "name": "python3"
  },
  "language_info": {
   "codemirror_mode": {
    "name": "ipython",
    "version": 3
   },
   "file_extension": ".py",
   "mimetype": "text/x-python",
   "name": "python",
   "nbconvert_exporter": "python",
   "pygments_lexer": "ipython3",
   "version": "3.11.8"
  },
  "orig_nbformat": 4,
  "vscode": {
   "interpreter": {
    "hash": "47ef90cdf3004d3f859f1fb202523c65c07ba7c22eefd261b181f4744e2d0403"
   }
  }
 },
 "nbformat": 4,
 "nbformat_minor": 2
}
