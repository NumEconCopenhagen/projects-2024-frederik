{
 "cells": [
  {
   "cell_type": "code",
   "execution_count": 18,
   "metadata": {},
   "outputs": [
    {
     "name": "stdout",
     "output_type": "stream",
     "text": [
      "                 ID                      Enhed                           Type  \\\n",
      "0  18 år og derover  Median (nominelle priser)  A.1. Helårsbolig, Ejerboliger   \n",
      "1  18 år og derover  Median (nominelle priser)  A.1. Helårsbolig, Ejerboliger   \n",
      "2  18 år og derover  Median (nominelle priser)  A.1. Helårsbolig, Ejerboliger   \n",
      "3  18 år og derover  Median (nominelle priser)  A.1. Helårsbolig, Ejerboliger   \n",
      "4  18 år og derover  Median (nominelle priser)  A.1. Helårsbolig, Ejerboliger   \n",
      "\n",
      "              By 2014 2015 2016 2017 2018 2019  2020  2021  2022  \n",
      "0      København    0    0    0    0    0    0     0     0     0  \n",
      "1  Frederiksberg    0    0    0    0    0    0     0     0     0  \n",
      "2        Brøndby    0    0    0    0    0    0     0     0     0  \n",
      "3          Ishøj    0    0    0    0    0    0     0     0     0  \n",
      "4   Guldborgsund    0    0    0    0    0    0     0     0     0  \n"
     ]
    }
   ],
   "source": [
    "import pandas as pd\n",
    "\n",
    "# URL of the dataset on GitHub (make sure to use the raw version of the file)\n",
    "url1 = 'https://raw.githubusercontent.com/NumEconCopenhagen/projects-2024-frederik/main/dataproject/Alle-uanset-formuetype.xlsx'\n",
    "\n",
    "# Read the Excel file directly into a pandas DataFrame\n",
    "averageall = pd.read_excel(url1)\n",
    "\n",
    "# Display the first few rows of the DataFrame\n",
    "print(averageall.head())\n",
    "\n"
   ]
  },
  {
   "cell_type": "code",
   "execution_count": 19,
   "metadata": {},
   "outputs": [
    {
     "name": "stdout",
     "output_type": "stream",
     "text": [
      "                                         ID             Enhed  \\\n",
      "0  Personer i befolkningen d. 31.12 (antal)  18 år og derover   \n",
      "1  Personer i befolkningen d. 31.12 (antal)  18 år og derover   \n",
      "2  Personer i befolkningen d. 31.12 (antal)  18 år og derover   \n",
      "3  Personer i befolkningen d. 31.12 (antal)  18 år og derover   \n",
      "4  Personer i befolkningen d. 31.12 (antal)  18 år og derover   \n",
      "\n",
      "                            Type             By    2014    2015    2016  \\\n",
      "0  A.1. Helårsbolig, Ejerboliger      København  477942  487903  496596   \n",
      "1  A.1. Helårsbolig, Ejerboliger  Frederiksberg   85124   86215   86528   \n",
      "2  A.1. Helårsbolig, Ejerboliger        Brøndby   27726   27961   28140   \n",
      "3  A.1. Helårsbolig, Ejerboliger          Ishøj   16987   17253   17561   \n",
      "4  A.1. Helårsbolig, Ejerboliger   Guldborgsund   50000   50230   50437   \n",
      "\n",
      "     2017    2018    2019    2020    2021    2022  \n",
      "0  505518  514068  521518  527190  533918  542829  \n",
      "1   85986   85582   85973   85614   85836   86984  \n",
      "2   28108   27979   27774   27888   28237   29494  \n",
      "3   17813   17831   17899   18047   18173   18383  \n",
      "4   50468   50391   50351   50108   50147   50129  \n"
     ]
    }
   ],
   "source": [
    "# URL of the dataset on GitHub (make sure to use the raw version of the file)\n",
    "url2 = 'https://raw.githubusercontent.com/NumEconCopenhagen/projects-2024-frederik/main/dataproject/Antal-personer-i-alt_uasnet-formue.xlsx'\n",
    "\n",
    "# Read the Excel file directly into a pandas DataFrame\n",
    "pop = pd.read_excel(url2)\n",
    "\n",
    "# Display the first few rows of the DataFrame\n",
    "print(pop.head())\n"
   ]
  },
  {
   "cell_type": "code",
   "execution_count": 20,
   "metadata": {},
   "outputs": [
    {
     "name": "stdout",
     "output_type": "stream",
     "text": [
      "                                         ID             Enhed  \\\n",
      "0  Personer i befolkningen d. 31.12 (antal)  18 år og derover   \n",
      "1  Personer i befolkningen d. 31.12 (antal)  18 år og derover   \n",
      "2  Personer i befolkningen d. 31.12 (antal)  18 år og derover   \n",
      "3  Personer i befolkningen d. 31.12 (antal)  18 år og derover   \n",
      "4  Personer i befolkningen d. 31.12 (antal)  18 år og derover   \n",
      "\n",
      "                            Type             By   2014   2015   2016   2017  \\\n",
      "0  A.1. Helårsbolig, Ejerboliger      København  70657  73911  77027  79197   \n",
      "1  A.1. Helårsbolig, Ejerboliger  Frederiksberg  15930  16418  16734  17107   \n",
      "2  A.1. Helårsbolig, Ejerboliger        Brøndby   7232   7295   7348   7303   \n",
      "3  A.1. Helårsbolig, Ejerboliger          Ishøj   5588   5653   5697   5747   \n",
      "4  A.1. Helårsbolig, Ejerboliger   Guldborgsund  24815  24632  24402  24227   \n",
      "\n",
      "    2018   2019   2020   2021   2022  \n",
      "0  83135  85460  86872  88110  88835  \n",
      "1  17348  17540  17723  17854  17920  \n",
      "2   7379   7425   7489   7526   7526  \n",
      "3   5809   5883   5883   5921   5906  \n",
      "4  24123  24061  23986  24113  24056  \n"
     ]
    }
   ],
   "source": [
    "# URL of the dataset on GitHub (make sure to use the raw version of the file)\n",
    "url3 = 'https://raw.githubusercontent.com/NumEconCopenhagen/projects-2024-frederik/main/dataproject/Antal-personer-med-fomruetypen.xlsx'\n",
    "\n",
    "popmedformue = pd.read_excel(url3)\n",
    "\n",
    "#showing the first line to make sure our code is good\n",
    "print(popmedformue.head())"
   ]
  },
  {
   "cell_type": "code",
   "execution_count": 21,
   "metadata": {},
   "outputs": [
    {
     "name": "stdout",
     "output_type": "stream",
     "text": [
      "                 ID                      Enhed  \\\n",
      "0  18 år og derover  Median (nominelle priser)   \n",
      "1  18 år og derover  Median (nominelle priser)   \n",
      "2  18 år og derover  Median (nominelle priser)   \n",
      "3  18 år og derover  Median (nominelle priser)   \n",
      "4  18 år og derover  Median (nominelle priser)   \n",
      "\n",
      "                              Type             By    2014    2015    2016  \\\n",
      "0  A.2. Helårsbolig, Andelsboliger      København  530591  556678  573883   \n",
      "1  A.2. Helårsbolig, Andelsboliger  Frederiksberg  759620  793787  821607   \n",
      "2  A.2. Helårsbolig, Andelsboliger        Brøndby  530469  563111  580830   \n",
      "3  A.2. Helårsbolig, Andelsboliger          Ishøj  907629  956594  989578   \n",
      "4  A.2. Helårsbolig, Andelsboliger   Guldborgsund  306248  329976  324933   \n",
      "\n",
      "      2017     2018     2019     2020     2021     2022  \n",
      "0   598066   621403   652795   721471   797163   806910  \n",
      "1   893962   935486   968488  1060696  1162328  1190391  \n",
      "2   603770   630936   644178   709014   784042   782087  \n",
      "3  1031990  1048026  1078370  1193761  1338436   866401  \n",
      "4   341701   366146   377318   377087   390178   406934  \n"
     ]
    }
   ],
   "source": [
    "# URL of the dataset on GitHub (make sure to use the raw version of the file)\n",
    "url4 = 'https://raw.githubusercontent.com/NumEconCopenhagen/projects-2024-frederik/main/dataproject/Kun-personer-med-formuetype.xlsx'\n",
    "\n",
    "averagemedformue = pd.read_excel(url4)\n",
    "\n",
    "#showing the first line to make sure our code is good\n",
    "print(averagemedformue.head())"
   ]
  }
 ],
 "metadata": {
  "kernelspec": {
   "display_name": "base",
   "language": "python",
   "name": "python3"
  },
  "language_info": {
   "codemirror_mode": {
    "name": "ipython",
    "version": 3
   },
   "file_extension": ".py",
   "mimetype": "text/x-python",
   "name": "python",
   "nbconvert_exporter": "python",
   "pygments_lexer": "ipython3",
   "version": "3.11.8"
  }
 },
 "nbformat": 4,
 "nbformat_minor": 2
}
